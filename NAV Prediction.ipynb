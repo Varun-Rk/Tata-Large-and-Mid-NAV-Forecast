{
 "cells": [
  {
   "cell_type": "code",
   "execution_count": 90,
   "metadata": {
    "id": "UGYSRbfoAg3c"
   },
   "outputs": [],
   "source": [
    "import pandas as pd\n",
    "import seaborn as sns\n",
    "import matplotlib.pyplot as plt\n",
    "from sklearn.preprocessing import MinMaxScaler\n",
    "import numpy as np"
   ]
  },
  {
   "cell_type": "code",
   "execution_count": null,
   "metadata": {},
   "outputs": [],
   "source": []
  },
  {
   "cell_type": "markdown",
   "metadata": {},
   "source": [
    "# 1. Data Collection and Summary"
   ]
  },
  {
   "cell_type": "code",
   "execution_count": 115,
   "metadata": {
    "id": "n50wZodZAo5_"
   },
   "outputs": [],
   "source": [
    "data = pd.read_excel('Mutual-Funds-India-Historical-NAV-Report.xlsx')"
   ]
  },
  {
   "cell_type": "code",
   "execution_count": 116,
   "metadata": {
    "id": "Fd3ydPDDHFub"
   },
   "outputs": [],
   "source": [
    "data = data.reindex(index=data.index[::-1]).reset_index()"
   ]
  },
  {
   "cell_type": "code",
   "execution_count": 117,
   "metadata": {
    "id": "NoBIfNoYHcQR"
   },
   "outputs": [],
   "source": [
    "data.drop('index',axis = 1,inplace = True)"
   ]
  },
  {
   "cell_type": "code",
   "execution_count": 118,
   "metadata": {
    "colab": {
     "base_uri": "https://localhost:8080/",
     "height": 419
    },
    "id": "M-FSKEMpHoWF",
    "outputId": "6edebb67-0fb4-4b5b-d1bc-2f492153aa4b"
   },
   "outputs": [
    {
     "data": {
      "text/html": [
       "<div>\n",
       "<style scoped>\n",
       "    .dataframe tbody tr th:only-of-type {\n",
       "        vertical-align: middle;\n",
       "    }\n",
       "\n",
       "    .dataframe tbody tr th {\n",
       "        vertical-align: top;\n",
       "    }\n",
       "\n",
       "    .dataframe thead th {\n",
       "        text-align: right;\n",
       "    }\n",
       "</style>\n",
       "<table border=\"1\" class=\"dataframe\">\n",
       "  <thead>\n",
       "    <tr style=\"text-align: right;\">\n",
       "      <th></th>\n",
       "      <th>NAV Date</th>\n",
       "      <th>NAV (Rs)</th>\n",
       "    </tr>\n",
       "  </thead>\n",
       "  <tbody>\n",
       "    <tr>\n",
       "      <th>0</th>\n",
       "      <td>14-09-2017</td>\n",
       "      <td>190.7901</td>\n",
       "    </tr>\n",
       "    <tr>\n",
       "      <th>1</th>\n",
       "      <td>15-09-2017</td>\n",
       "      <td>190.7968</td>\n",
       "    </tr>\n",
       "    <tr>\n",
       "      <th>2</th>\n",
       "      <td>18-09-2017</td>\n",
       "      <td>191.7740</td>\n",
       "    </tr>\n",
       "    <tr>\n",
       "      <th>3</th>\n",
       "      <td>19-09-2017</td>\n",
       "      <td>192.0015</td>\n",
       "    </tr>\n",
       "    <tr>\n",
       "      <th>4</th>\n",
       "      <td>20-09-2017</td>\n",
       "      <td>192.1447</td>\n",
       "    </tr>\n",
       "    <tr>\n",
       "      <th>...</th>\n",
       "      <td>...</td>\n",
       "      <td>...</td>\n",
       "    </tr>\n",
       "    <tr>\n",
       "      <th>1228</th>\n",
       "      <td>08-09-2022</td>\n",
       "      <td>354.3166</td>\n",
       "    </tr>\n",
       "    <tr>\n",
       "      <th>1229</th>\n",
       "      <td>09-09-2022</td>\n",
       "      <td>355.4350</td>\n",
       "    </tr>\n",
       "    <tr>\n",
       "      <th>1230</th>\n",
       "      <td>12-09-2022</td>\n",
       "      <td>356.4694</td>\n",
       "    </tr>\n",
       "    <tr>\n",
       "      <th>1231</th>\n",
       "      <td>13-09-2022</td>\n",
       "      <td>357.7128</td>\n",
       "    </tr>\n",
       "    <tr>\n",
       "      <th>1232</th>\n",
       "      <td>14-09-2022</td>\n",
       "      <td>358.1438</td>\n",
       "    </tr>\n",
       "  </tbody>\n",
       "</table>\n",
       "<p>1233 rows × 2 columns</p>\n",
       "</div>"
      ],
      "text/plain": [
       "        NAV Date  NAV (Rs)\n",
       "0     14-09-2017  190.7901\n",
       "1     15-09-2017  190.7968\n",
       "2     18-09-2017  191.7740\n",
       "3     19-09-2017  192.0015\n",
       "4     20-09-2017  192.1447\n",
       "...          ...       ...\n",
       "1228  08-09-2022  354.3166\n",
       "1229  09-09-2022  355.4350\n",
       "1230  12-09-2022  356.4694\n",
       "1231  13-09-2022  357.7128\n",
       "1232  14-09-2022  358.1438\n",
       "\n",
       "[1233 rows x 2 columns]"
      ]
     },
     "execution_count": 118,
     "metadata": {},
     "output_type": "execute_result"
    }
   ],
   "source": [
    "data"
   ]
  },
  {
   "cell_type": "code",
   "execution_count": 119,
   "metadata": {
    "colab": {
     "base_uri": "https://localhost:8080/",
     "height": 1000
    },
    "id": "PPI5gDbxCDXF",
    "outputId": "d3583dac-170f-4319-a53f-e8babac95b4f"
   },
   "outputs": [
    {
     "data": {
      "text/plain": [
       "([<matplotlib.axis.XTick at 0x187a5e2da30>,\n",
       "  <matplotlib.axis.XTick at 0x187a5e2da00>,\n",
       "  <matplotlib.axis.XTick at 0x187a622dd30>,\n",
       "  <matplotlib.axis.XTick at 0x187a5e59190>,\n",
       "  <matplotlib.axis.XTick at 0x187a5e59850>,\n",
       "  <matplotlib.axis.XTick at 0x187a5e77070>,\n",
       "  <matplotlib.axis.XTick at 0x187a5e77730>,\n",
       "  <matplotlib.axis.XTick at 0x187a5e77e80>,\n",
       "  <matplotlib.axis.XTick at 0x187a5e78610>,\n",
       "  <matplotlib.axis.XTick at 0x187a5e77ee0>,\n",
       "  <matplotlib.axis.XTick at 0x187a5e59fd0>,\n",
       "  <matplotlib.axis.XTick at 0x187a5e789d0>,\n",
       "  <matplotlib.axis.XTick at 0x187a5e6c340>,\n",
       "  <matplotlib.axis.XTick at 0x187a5e6ca90>,\n",
       "  <matplotlib.axis.XTick at 0x187a5e7c220>,\n",
       "  <matplotlib.axis.XTick at 0x187a5e7c970>,\n",
       "  <matplotlib.axis.XTick at 0x187a5e7cc10>,\n",
       "  <matplotlib.axis.XTick at 0x187a5e6ca60>,\n",
       "  <matplotlib.axis.XTick at 0x187a5e59100>,\n",
       "  <matplotlib.axis.XTick at 0x187a5e724f0>,\n",
       "  <matplotlib.axis.XTick at 0x187a5e72c40>,\n",
       "  <matplotlib.axis.XTick at 0x187a5e953d0>,\n",
       "  <matplotlib.axis.XTick at 0x187a5e95b20>,\n",
       "  <matplotlib.axis.XTick at 0x187a5e95df0>,\n",
       "  <matplotlib.axis.XTick at 0x187a5e72d00>,\n",
       "  <matplotlib.axis.XTick at 0x187a5e6c3a0>,\n",
       "  <matplotlib.axis.XTick at 0x187a5e9b6a0>,\n",
       "  <matplotlib.axis.XTick at 0x187a5e9bdf0>,\n",
       "  <matplotlib.axis.XTick at 0x187a5ea1580>,\n",
       "  <matplotlib.axis.XTick at 0x187a5ea1cd0>,\n",
       "  <matplotlib.axis.XTick at 0x187a5ea1dc0>,\n",
       "  <matplotlib.axis.XTick at 0x187a5e9be20>,\n",
       "  <matplotlib.axis.XTick at 0x187a5e724c0>,\n",
       "  <matplotlib.axis.XTick at 0x187a5ea8850>,\n",
       "  <matplotlib.axis.XTick at 0x187a5eb0070>,\n",
       "  <matplotlib.axis.XTick at 0x187a5eb0730>,\n",
       "  <matplotlib.axis.XTick at 0x187a5eb0e80>,\n",
       "  <matplotlib.axis.XTick at 0x187a5eb0ee0>,\n",
       "  <matplotlib.axis.XTick at 0x187a5ea8f70>,\n",
       "  <matplotlib.axis.XTick at 0x187a5e9b190>,\n",
       "  <matplotlib.axis.XTick at 0x187a5e78e20>,\n",
       "  <matplotlib.axis.XTick at 0x187a5eb68e0>],\n",
       " [Text(0, 0, '14-09-2017'),\n",
       "  Text(30, 0, '31-10-2017'),\n",
       "  Text(60, 0, '12-12-2017'),\n",
       "  Text(90, 0, '24-01-2018'),\n",
       "  Text(120, 0, '12-03-2018'),\n",
       "  Text(150, 0, '25-04-2018'),\n",
       "  Text(180, 0, '07-06-2018'),\n",
       "  Text(210, 0, '19-07-2018'),\n",
       "  Text(240, 0, '03-09-2018'),\n",
       "  Text(270, 0, '19-10-2018'),\n",
       "  Text(300, 0, '05-12-2018'),\n",
       "  Text(330, 0, '17-01-2019'),\n",
       "  Text(360, 0, '28-02-2019'),\n",
       "  Text(390, 0, '15-04-2019'),\n",
       "  Text(420, 0, '31-05-2019'),\n",
       "  Text(450, 0, '15-07-2019'),\n",
       "  Text(480, 0, '28-08-2019'),\n",
       "  Text(510, 0, '15-10-2019'),\n",
       "  Text(540, 0, '29-11-2019'),\n",
       "  Text(570, 0, '13-01-2020'),\n",
       "  Text(600, 0, '25-02-2020'),\n",
       "  Text(630, 0, '13-04-2020'),\n",
       "  Text(660, 0, '28-05-2020'),\n",
       "  Text(690, 0, '09-07-2020'),\n",
       "  Text(720, 0, '20-08-2020'),\n",
       "  Text(750, 0, '01-10-2020'),\n",
       "  Text(780, 0, '13-11-2020'),\n",
       "  Text(810, 0, '30-12-2020'),\n",
       "  Text(840, 0, '11-02-2021'),\n",
       "  Text(870, 0, '26-03-2021'),\n",
       "  Text(900, 0, '14-05-2021'),\n",
       "  Text(930, 0, '25-06-2021'),\n",
       "  Text(960, 0, '09-08-2021'),\n",
       "  Text(990, 0, '22-09-2021'),\n",
       "  Text(1020, 0, '08-11-2021'),\n",
       "  Text(1050, 0, '21-12-2021'),\n",
       "  Text(1080, 0, '02-02-2022'),\n",
       "  Text(1110, 0, '17-03-2022'),\n",
       "  Text(1140, 0, '04-05-2022'),\n",
       "  Text(1170, 0, '15-06-2022'),\n",
       "  Text(1200, 0, '27-07-2022'),\n",
       "  Text(1230, 0, '12-09-2022')])"
      ]
     },
     "execution_count": 119,
     "metadata": {},
     "output_type": "execute_result"
    },
    {
     "data": {
      "image/png": "[encoded data removed]",
      "text/plain": [
       "<Figure size 1440x720 with 1 Axes>"
      ]
     },
     "metadata": {
      "needs_background": "light"
     },
     "output_type": "display_data"
    }
   ],
   "source": [
    "plt.figure(figsize=(20,10))\n",
    "sns.lineplot( x=data['NAV Date'],y=data['NAV (Rs)'])\n",
    "plt.xticks(range(0,data.shape[0],30),data['NAV Date'].loc[::30],rotation = 45)"
   ]
  },
  {
   "cell_type": "code",
   "execution_count": 120,
   "metadata": {
    "colab": {
     "base_uri": "https://localhost:8080/"
    },
    "id": "5MT4jnvC1SfC",
    "outputId": "ec311633-500f-4927-a2de-b62614e3602b"
   },
   "outputs": [
    {
     "data": {
      "text/plain": [
       "(1233, 2)"
      ]
     },
     "execution_count": 120,
     "metadata": {},
     "output_type": "execute_result"
    }
   ],
   "source": [
    "data.shape"
   ]
  },
  {
   "cell_type": "code",
   "execution_count": null,
   "metadata": {},
   "outputs": [],
   "source": []
  },
  {
   "cell_type": "markdown",
   "metadata": {},
   "source": [
    "# 2. Splitting Data in train and test set"
   ]
  },
  {
   "cell_type": "code",
   "execution_count": 121,
   "metadata": {
    "id": "bo1BnnCmEjBl"
   },
   "outputs": [],
   "source": [
    "train_data,test_data =data[0:900],data[900:len(data)]"
   ]
  },
  {
   "cell_type": "code",
   "execution_count": 122,
   "metadata": {
    "colab": {
     "base_uri": "https://localhost:8080/",
     "height": 419
    },
    "id": "FUvy9oVHLw15",
    "outputId": "25e9df17-30fa-4a35-caf1-38331c14a8d3"
   },
   "outputs": [
    {
     "data": {
      "text/html": [
       "<div>\n",
       "<style scoped>\n",
       "    .dataframe tbody tr th:only-of-type {\n",
       "        vertical-align: middle;\n",
       "    }\n",
       "\n",
       "    .dataframe tbody tr th {\n",
       "        vertical-align: top;\n",
       "    }\n",
       "\n",
       "    .dataframe thead th {\n",
       "        text-align: right;\n",
       "    }\n",
       "</style>\n",
       "<table border=\"1\" class=\"dataframe\">\n",
       "  <thead>\n",
       "    <tr style=\"text-align: right;\">\n",
       "      <th></th>\n",
       "      <th>NAV Date</th>\n",
       "      <th>NAV (Rs)</th>\n",
       "    </tr>\n",
       "  </thead>\n",
       "  <tbody>\n",
       "    <tr>\n",
       "      <th>0</th>\n",
       "      <td>14-09-2017</td>\n",
       "      <td>190.7901</td>\n",
       "    </tr>\n",
       "    <tr>\n",
       "      <th>1</th>\n",
       "      <td>15-09-2017</td>\n",
       "      <td>190.7968</td>\n",
       "    </tr>\n",
       "    <tr>\n",
       "      <th>2</th>\n",
       "      <td>18-09-2017</td>\n",
       "      <td>191.7740</td>\n",
       "    </tr>\n",
       "    <tr>\n",
       "      <th>3</th>\n",
       "      <td>19-09-2017</td>\n",
       "      <td>192.0015</td>\n",
       "    </tr>\n",
       "    <tr>\n",
       "      <th>4</th>\n",
       "      <td>20-09-2017</td>\n",
       "      <td>192.1447</td>\n",
       "    </tr>\n",
       "    <tr>\n",
       "      <th>...</th>\n",
       "      <td>...</td>\n",
       "      <td>...</td>\n",
       "    </tr>\n",
       "    <tr>\n",
       "      <th>895</th>\n",
       "      <td>06-05-2021</td>\n",
       "      <td>278.2780</td>\n",
       "    </tr>\n",
       "    <tr>\n",
       "      <th>896</th>\n",
       "      <td>07-05-2021</td>\n",
       "      <td>279.0887</td>\n",
       "    </tr>\n",
       "    <tr>\n",
       "      <th>897</th>\n",
       "      <td>10-05-2021</td>\n",
       "      <td>279.4743</td>\n",
       "    </tr>\n",
       "    <tr>\n",
       "      <th>898</th>\n",
       "      <td>11-05-2021</td>\n",
       "      <td>279.0901</td>\n",
       "    </tr>\n",
       "    <tr>\n",
       "      <th>899</th>\n",
       "      <td>12-05-2021</td>\n",
       "      <td>277.3069</td>\n",
       "    </tr>\n",
       "  </tbody>\n",
       "</table>\n",
       "<p>900 rows × 2 columns</p>\n",
       "</div>"
      ],
      "text/plain": [
       "       NAV Date  NAV (Rs)\n",
       "0    14-09-2017  190.7901\n",
       "1    15-09-2017  190.7968\n",
       "2    18-09-2017  191.7740\n",
       "3    19-09-2017  192.0015\n",
       "4    20-09-2017  192.1447\n",
       "..          ...       ...\n",
       "895  06-05-2021  278.2780\n",
       "896  07-05-2021  279.0887\n",
       "897  10-05-2021  279.4743\n",
       "898  11-05-2021  279.0901\n",
       "899  12-05-2021  277.3069\n",
       "\n",
       "[900 rows x 2 columns]"
      ]
     },
     "execution_count": 122,
     "metadata": {},
     "output_type": "execute_result"
    }
   ],
   "source": [
    "train_data"
   ]
  },
  {
   "cell_type": "code",
   "execution_count": 123,
   "metadata": {
    "colab": {
     "base_uri": "https://localhost:8080/",
     "height": 419
    },
    "id": "mAlczQqxL2hT",
    "outputId": "bb6f90f0-ac52-4a92-d519-42f7577793ee"
   },
   "outputs": [
    {
     "data": {
      "text/html": [
       "<div>\n",
       "<style scoped>\n",
       "    .dataframe tbody tr th:only-of-type {\n",
       "        vertical-align: middle;\n",
       "    }\n",
       "\n",
       "    .dataframe tbody tr th {\n",
       "        vertical-align: top;\n",
       "    }\n",
       "\n",
       "    .dataframe thead th {\n",
       "        text-align: right;\n",
       "    }\n",
       "</style>\n",
       "<table border=\"1\" class=\"dataframe\">\n",
       "  <thead>\n",
       "    <tr style=\"text-align: right;\">\n",
       "      <th></th>\n",
       "      <th>NAV Date</th>\n",
       "      <th>NAV (Rs)</th>\n",
       "    </tr>\n",
       "  </thead>\n",
       "  <tbody>\n",
       "    <tr>\n",
       "      <th>900</th>\n",
       "      <td>14-05-2021</td>\n",
       "      <td>275.4907</td>\n",
       "    </tr>\n",
       "    <tr>\n",
       "      <th>901</th>\n",
       "      <td>17-05-2021</td>\n",
       "      <td>280.3328</td>\n",
       "    </tr>\n",
       "    <tr>\n",
       "      <th>902</th>\n",
       "      <td>18-05-2021</td>\n",
       "      <td>283.3568</td>\n",
       "    </tr>\n",
       "    <tr>\n",
       "      <th>903</th>\n",
       "      <td>19-05-2021</td>\n",
       "      <td>281.8694</td>\n",
       "    </tr>\n",
       "    <tr>\n",
       "      <th>904</th>\n",
       "      <td>20-05-2021</td>\n",
       "      <td>280.9877</td>\n",
       "    </tr>\n",
       "    <tr>\n",
       "      <th>...</th>\n",
       "      <td>...</td>\n",
       "      <td>...</td>\n",
       "    </tr>\n",
       "    <tr>\n",
       "      <th>1228</th>\n",
       "      <td>08-09-2022</td>\n",
       "      <td>354.3166</td>\n",
       "    </tr>\n",
       "    <tr>\n",
       "      <th>1229</th>\n",
       "      <td>09-09-2022</td>\n",
       "      <td>355.4350</td>\n",
       "    </tr>\n",
       "    <tr>\n",
       "      <th>1230</th>\n",
       "      <td>12-09-2022</td>\n",
       "      <td>356.4694</td>\n",
       "    </tr>\n",
       "    <tr>\n",
       "      <th>1231</th>\n",
       "      <td>13-09-2022</td>\n",
       "      <td>357.7128</td>\n",
       "    </tr>\n",
       "    <tr>\n",
       "      <th>1232</th>\n",
       "      <td>14-09-2022</td>\n",
       "      <td>358.1438</td>\n",
       "    </tr>\n",
       "  </tbody>\n",
       "</table>\n",
       "<p>333 rows × 2 columns</p>\n",
       "</div>"
      ],
      "text/plain": [
       "        NAV Date  NAV (Rs)\n",
       "900   14-05-2021  275.4907\n",
       "901   17-05-2021  280.3328\n",
       "902   18-05-2021  283.3568\n",
       "903   19-05-2021  281.8694\n",
       "904   20-05-2021  280.9877\n",
       "...          ...       ...\n",
       "1228  08-09-2022  354.3166\n",
       "1229  09-09-2022  355.4350\n",
       "1230  12-09-2022  356.4694\n",
       "1231  13-09-2022  357.7128\n",
       "1232  14-09-2022  358.1438\n",
       "\n",
       "[333 rows x 2 columns]"
      ]
     },
     "execution_count": 123,
     "metadata": {},
     "output_type": "execute_result"
    }
   ],
   "source": [
    "test_data"
   ]
  },
  {
   "cell_type": "code",
   "execution_count": 124,
   "metadata": {
    "id": "GI448AQPnAH0"
   },
   "outputs": [],
   "source": [
    "test_data = test_data['NAV (Rs)']"
   ]
  },
  {
   "cell_type": "code",
   "execution_count": 125,
   "metadata": {
    "colab": {
     "base_uri": "https://localhost:8080/"
    },
    "id": "FnqiEPZ8nFkb",
    "outputId": "8f17c834-37c4-451d-a0f0-a5e21891b241"
   },
   "outputs": [
    {
     "data": {
      "text/plain": [
       "900     275.4907\n",
       "901     280.3328\n",
       "902     283.3568\n",
       "903     281.8694\n",
       "904     280.9877\n",
       "          ...   \n",
       "1228    354.3166\n",
       "1229    355.4350\n",
       "1230    356.4694\n",
       "1231    357.7128\n",
       "1232    358.1438\n",
       "Name: NAV (Rs), Length: 333, dtype: float64"
      ]
     },
     "execution_count": 125,
     "metadata": {},
     "output_type": "execute_result"
    }
   ],
   "source": [
    "test_data"
   ]
  },
  {
   "cell_type": "code",
   "execution_count": 126,
   "metadata": {
    "colab": {
     "base_uri": "https://localhost:8080/"
    },
    "id": "rWlcqGZMiu41",
    "outputId": "ff25408a-0235-41cf-de94-7ee8dbc0bce1"
   },
   "outputs": [
    {
     "data": {
      "text/plain": [
       "0      190.7901\n",
       "1      190.7968\n",
       "2      191.7740\n",
       "3      192.0015\n",
       "4      192.1447\n",
       "         ...   \n",
       "895    278.2780\n",
       "896    279.0887\n",
       "897    279.4743\n",
       "898    279.0901\n",
       "899    277.3069\n",
       "Name: NAV (Rs), Length: 900, dtype: float64"
      ]
     },
     "execution_count": 126,
     "metadata": {},
     "output_type": "execute_result"
    }
   ],
   "source": [
    "train_data = train_data['NAV (Rs)']\n",
    "train_data "
   ]
  },
  {
   "cell_type": "code",
   "execution_count": 127,
   "metadata": {},
   "outputs": [
    {
     "data": {
      "text/plain": [
       "(900, 333)"
      ]
     },
     "execution_count": 127,
     "metadata": {},
     "output_type": "execute_result"
    }
   ],
   "source": [
    "len(train_data), len(test_data)"
   ]
  },
  {
   "cell_type": "code",
   "execution_count": null,
   "metadata": {},
   "outputs": [],
   "source": []
  },
  {
   "cell_type": "markdown",
   "metadata": {},
   "source": [
    "# 3. Data preprocessing"
   ]
  },
  {
   "cell_type": "markdown",
   "metadata": {},
   "source": [
    "### Applying MinMaxScaler for scaling data, as LSTM is sentivie to scale of data."
   ]
  },
  {
   "cell_type": "code",
   "execution_count": null,
   "metadata": {},
   "outputs": [],
   "source": []
  },
  {
   "cell_type": "code",
   "execution_count": 128,
   "metadata": {},
   "outputs": [],
   "source": [
    "scaler = MinMaxScaler(feature_range=(0,1))"
   ]
  },
  {
   "cell_type": "code",
   "execution_count": 130,
   "metadata": {
    "id": "XNUyvzi1iT9Y"
   },
   "outputs": [],
   "source": [
    "scaled_train_data = scaler.fit_transform(np.array(train_data).reshape(-1, 1))\n",
    "scaled_test_data = scaler.transform(np.array(test_data).reshape(-1, 1))"
   ]
  },
  {
   "cell_type": "code",
   "execution_count": 131,
   "metadata": {},
   "outputs": [
    {
     "data": {
      "text/plain": [
       "array([[0.90934565],\n",
       "       [0.9431566 ],\n",
       "       [0.9642723 ],\n",
       "       [0.95388622],\n",
       "       [0.94772957],\n",
       "       [0.97603117],\n",
       "       [0.99425812],\n",
       "       [0.99024307],\n",
       "       [0.99521475],\n",
       "       [1.00752735],\n",
       "       [1.01237545],\n",
       "       [1.02695463],\n",
       "       [1.0228502 ],\n",
       "       [1.03239556],\n",
       "       [1.0468721 ],\n",
       "       [1.0529275 ],\n",
       "       [1.0713786 ],\n",
       "       [1.07876839],\n",
       "       [1.07039683],\n",
       "       [1.09365342],\n",
       "       [1.0960052 ],\n",
       "       [1.09041275],\n",
       "       [1.10931074],\n",
       "       [1.09909574],\n",
       "       [1.08521762],\n",
       "       [1.08194692],\n",
       "       [1.08117882],\n",
       "       [1.08226393],\n",
       "       [1.07235617],\n",
       "       [1.079047  ],\n",
       "       [1.08925152],\n",
       "       [1.08802885],\n",
       "       [1.07816439],\n",
       "       [1.08557164],\n",
       "       [1.08153284],\n",
       "       [1.09450461],\n",
       "       [1.10117449],\n",
       "       [1.09947211],\n",
       "       [1.10010684],\n",
       "       [1.08524136],\n",
       "       [1.08293357],\n",
       "       [1.09052377],\n",
       "       [1.11121213],\n",
       "       [1.10809784],\n",
       "       [1.11573203],\n",
       "       [1.12628779],\n",
       "       [1.10873606],\n",
       "       [1.09275126],\n",
       "       [1.10343828],\n",
       "       [1.10931702],\n",
       "       [1.10656933],\n",
       "       [1.10109768],\n",
       "       [1.10411351],\n",
       "       [1.12006829],\n",
       "       [1.11847274],\n",
       "       [1.13675905],\n",
       "       [1.15880973],\n",
       "       [1.16814979],\n",
       "       [1.16142615],\n",
       "       [1.16228572],\n",
       "       [1.15732451],\n",
       "       [1.1591023 ],\n",
       "       [1.15627152],\n",
       "       [1.18015236],\n",
       "       [1.19177368],\n",
       "       [1.19732143],\n",
       "       [1.20095035],\n",
       "       [1.19659733],\n",
       "       [1.17615826],\n",
       "       [1.17102248],\n",
       "       [1.17852679],\n",
       "       [1.18504305],\n",
       "       [1.18420303],\n",
       "       [1.19651144],\n",
       "       [1.22667114],\n",
       "       [1.24850046],\n",
       "       [1.24318383],\n",
       "       [1.26258667],\n",
       "       [1.27492721],\n",
       "       [1.28398517],\n",
       "       [1.28144765],\n",
       "       [1.27836409],\n",
       "       [1.28601853],\n",
       "       [1.27960073],\n",
       "       [1.28630622],\n",
       "       [1.30690729],\n",
       "       [1.32476276],\n",
       "       [1.2997179 ],\n",
       "       [1.27351391],\n",
       "       [1.28462478],\n",
       "       [1.2851422 ],\n",
       "       [1.30859361],\n",
       "       [1.30159345],\n",
       "       [1.30307798],\n",
       "       [1.28392093],\n",
       "       [1.28892404],\n",
       "       [1.28244967],\n",
       "       [1.27405716],\n",
       "       [1.29161587],\n",
       "       [1.30265622],\n",
       "       [1.28049172],\n",
       "       [1.30466724],\n",
       "       [1.31064932],\n",
       "       [1.3146155 ],\n",
       "       [1.31603927],\n",
       "       [1.3245065 ],\n",
       "       [1.34034327],\n",
       "       [1.35543499],\n",
       "       [1.3362116 ],\n",
       "       [1.31535985],\n",
       "       [1.29994833],\n",
       "       [1.29259484],\n",
       "       [1.29183722],\n",
       "       [1.31491156],\n",
       "       [1.31317846],\n",
       "       [1.27622948],\n",
       "       [1.27050506],\n",
       "       [1.30902864],\n",
       "       [1.3251936 ],\n",
       "       [1.30919692],\n",
       "       [1.33862483],\n",
       "       [1.34127267],\n",
       "       [1.33899142],\n",
       "       [1.31889101],\n",
       "       [1.33816048],\n",
       "       [1.3337509 ],\n",
       "       [1.32309459],\n",
       "       [1.31806775],\n",
       "       [1.30338452],\n",
       "       [1.25985434],\n",
       "       [1.27859243],\n",
       "       [1.27319899],\n",
       "       [1.28762874],\n",
       "       [1.22628779],\n",
       "       [1.22299195],\n",
       "       [1.23125388],\n",
       "       [1.24461459],\n",
       "       [1.26448248],\n",
       "       [1.24480522],\n",
       "       [1.20895951],\n",
       "       [1.23729672],\n",
       "       [1.27156434],\n",
       "       [1.28098749],\n",
       "       [1.28651919],\n",
       "       [1.27632584],\n",
       "       [1.27669592],\n",
       "       [1.26159792],\n",
       "       [1.24616824],\n",
       "       [1.20973878],\n",
       "       [1.16126485],\n",
       "       [1.18185894],\n",
       "       [1.20945458],\n",
       "       [1.21815294],\n",
       "       [1.2028245 ],\n",
       "       [1.21180286],\n",
       "       [1.233591  ],\n",
       "       [1.23882104],\n",
       "       [1.23541558],\n",
       "       [1.25958551],\n",
       "       [1.28810077],\n",
       "       [1.30618877],\n",
       "       [1.31428382],\n",
       "       [1.29353471],\n",
       "       [1.30296067],\n",
       "       [1.32407985],\n",
       "       [1.33094315],\n",
       "       [1.36106025],\n",
       "       [1.36130255],\n",
       "       [1.36444687],\n",
       "       [1.37698361],\n",
       "       [1.35153235],\n",
       "       [1.34068403],\n",
       "       [1.32052915],\n",
       "       [1.29823198],\n",
       "       [1.23371668],\n",
       "       [1.24752917],\n",
       "       [1.23549169],\n",
       "       [1.23525567],\n",
       "       [1.26893046],\n",
       "       [1.29079261],\n",
       "       [1.31791901],\n",
       "       [1.29530204],\n",
       "       [1.2846569 ],\n",
       "       [1.25936066],\n",
       "       [1.25221177],\n",
       "       [1.26743197],\n",
       "       [1.26738379],\n",
       "       [1.24396869],\n",
       "       [1.17657652],\n",
       "       [1.22952846],\n",
       "       [1.22452395],\n",
       "       [1.21782684],\n",
       "       [1.21209195],\n",
       "       [1.19192031],\n",
       "       [1.16295257],\n",
       "       [1.16537138],\n",
       "       [1.06060987],\n",
       "       [1.11942588],\n",
       "       [1.1385948 ],\n",
       "       [1.12331385],\n",
       "       [1.10901188],\n",
       "       [1.07932072],\n",
       "       [1.03154576],\n",
       "       [1.04705574],\n",
       "       [1.08759523],\n",
       "       [1.11402406],\n",
       "       [1.11482707],\n",
       "       [1.14113581],\n",
       "       [1.12157516],\n",
       "       [1.15850458],\n",
       "       [1.18761548],\n",
       "       [1.17747659],\n",
       "       [1.19460796],\n",
       "       [1.1962042 ],\n",
       "       [1.19663573],\n",
       "       [1.18237286],\n",
       "       [1.18916633],\n",
       "       [1.1945102 ],\n",
       "       [1.22095021],\n",
       "       [1.21473141],\n",
       "       [1.233466  ],\n",
       "       [1.26880128],\n",
       "       [1.26933685],\n",
       "       [1.26146804],\n",
       "       [1.24062747],\n",
       "       [1.25540147],\n",
       "       [1.25643631],\n",
       "       [1.24313914],\n",
       "       [1.24245554],\n",
       "       [1.21492274],\n",
       "       [1.20118776],\n",
       "       [1.21754055],\n",
       "       [1.23844397],\n",
       "       [1.21605882],\n",
       "       [1.19492078],\n",
       "       [1.22268052],\n",
       "       [1.20179944],\n",
       "       [1.22207303],\n",
       "       [1.21559727],\n",
       "       [1.21055785],\n",
       "       [1.17100013],\n",
       "       [1.16724553],\n",
       "       [1.13792376],\n",
       "       [1.12194594],\n",
       "       [1.10857825],\n",
       "       [1.08955876],\n",
       "       [1.05302526],\n",
       "       [1.05301897],\n",
       "       [1.06647464],\n",
       "       [1.11105222],\n",
       "       [1.10880798],\n",
       "       [1.05908136],\n",
       "       [1.1052063 ],\n",
       "       [1.09869074],\n",
       "       [1.09153696],\n",
       "       [1.07224166],\n",
       "       [1.09529296],\n",
       "       [1.11036792],\n",
       "       [1.14661304],\n",
       "       [1.14693843],\n",
       "       [1.1542193 ],\n",
       "       [1.16312015],\n",
       "       [1.14866246],\n",
       "       [1.14329905],\n",
       "       [1.12710406],\n",
       "       [1.1164708 ],\n",
       "       [1.12311764],\n",
       "       [1.10188184],\n",
       "       [1.05557185],\n",
       "       [1.05543499],\n",
       "       [1.05997514],\n",
       "       [1.02184888],\n",
       "       [1.00962426],\n",
       "       [1.00521957],\n",
       "       [1.03686309],\n",
       "       [1.01652317],\n",
       "       [1.03476828],\n",
       "       [1.06218587],\n",
       "       [1.08464922],\n",
       "       [1.08956016],\n",
       "       [1.0891405 ],\n",
       "       [1.09904058],\n",
       "       [1.09704073],\n",
       "       [1.11328459],\n",
       "       [1.10782971],\n",
       "       [1.13667805],\n",
       "       [1.15989694],\n",
       "       [1.17219138],\n",
       "       [1.17739838],\n",
       "       [1.15897173],\n",
       "       [1.15837052],\n",
       "       [1.15068256],\n",
       "       [1.15980616],\n",
       "       [1.1928958 ],\n",
       "       [1.21458128],\n",
       "       [1.22363855],\n",
       "       [1.23566975],\n",
       "       [1.24381996],\n",
       "       [1.23246259],\n",
       "       [1.21911445],\n",
       "       [1.22891957],\n",
       "       [1.24987466],\n",
       "       [1.27160414],\n",
       "       [1.30778222],\n",
       "       [1.3119921 ],\n",
       "       [1.31811523],\n",
       "       [1.33153948],\n",
       "       [1.3449749 ],\n",
       "       [1.35505303],\n",
       "       [1.35426818],\n",
       "       [1.37307679],\n",
       "       [1.38466598],\n",
       "       [1.39994693],\n",
       "       [1.40805455],\n",
       "       [1.41259331],\n",
       "       [1.38668887],\n",
       "       [1.34985651],\n",
       "       [1.3719833 ],\n",
       "       [1.39068228],\n",
       "       [1.39182395],\n",
       "       [1.39538513],\n",
       "       [1.36813443],\n",
       "       [1.41686393],\n",
       "       [1.4045632 ],\n",
       "       [1.39864117],\n",
       "       [1.4211541 ],\n",
       "       [1.42806977],\n",
       "       [1.43517747],\n",
       "       [1.45976357],\n",
       "       [1.46757302],\n",
       "       [1.47479593],\n",
       "       [1.48347822],\n",
       "       [1.48648777]])"
      ]
     },
     "execution_count": 131,
     "metadata": {},
     "output_type": "execute_result"
    }
   ],
   "source": [
    "scaled_test_data"
   ]
  },
  {
   "cell_type": "markdown",
   "metadata": {},
   "source": [
    "### Convert an array of values into a dataset matrix"
   ]
  },
  {
   "cell_type": "code",
   "execution_count": null,
   "metadata": {},
   "outputs": [],
   "source": []
  },
  {
   "cell_type": "code",
   "execution_count": 132,
   "metadata": {
    "id": "BKzlZe6sGwwU"
   },
   "outputs": [],
   "source": [
    "def preprocess_data(df,time_step = 90):\n",
    "  X_data = []\n",
    "  y_data = []\n",
    "  for i in range(len(df) - time_step-1):\n",
    "    temp = df[i:(i + time_step),0]\n",
    "    X_data.append(temp)\n",
    "    y_data.append(df[i + time_step,0])\n",
    "  return np.array(X_data), np.array(y_data)"
   ]
  },
  {
   "cell_type": "code",
   "execution_count": 133,
   "metadata": {
    "id": "dr-bwKw1olO3"
   },
   "outputs": [],
   "source": [
    "X_train,y_train = preprocess_data(scaled_train_data)\n",
    "X_test,y_test = preprocess_data(scaled_test_data)"
   ]
  },
  {
   "cell_type": "code",
   "execution_count": 134,
   "metadata": {
    "colab": {
     "base_uri": "https://localhost:8080/"
    },
    "id": "dNqU0u9FolKb",
    "outputId": "b97f91ad-247b-4dda-92a8-72ef3b287895"
   },
   "outputs": [
    {
     "data": {
      "text/plain": [
       "(809, 90)"
      ]
     },
     "execution_count": 134,
     "metadata": {},
     "output_type": "execute_result"
    }
   ],
   "source": [
    "X_train.shape"
   ]
  },
  {
   "cell_type": "code",
   "execution_count": null,
   "metadata": {},
   "outputs": [],
   "source": []
  },
  {
   "cell_type": "markdown",
   "metadata": {},
   "source": [
    "### Reshape input to be [samples, time steps, features] which is required for LSTM"
   ]
  },
  {
   "cell_type": "code",
   "execution_count": null,
   "metadata": {},
   "outputs": [],
   "source": []
  },
  {
   "cell_type": "code",
   "execution_count": 135,
   "metadata": {
    "id": "kubymgxEolFa"
   },
   "outputs": [],
   "source": [
    "X_train =X_train.reshape(X_train.shape[0],X_train.shape[1] , 1)\n",
    "X_test = X_test.reshape(X_test.shape[0],X_test.shape[1] , 1)"
   ]
  },
  {
   "cell_type": "code",
   "execution_count": null,
   "metadata": {},
   "outputs": [],
   "source": []
  },
  {
   "cell_type": "markdown",
   "metadata": {},
   "source": [
    "# 4. Model Building - Stacked LSTM"
   ]
  },
  {
   "cell_type": "code",
   "execution_count": null,
   "metadata": {},
   "outputs": [],
   "source": []
  },
  {
   "cell_type": "code",
   "execution_count": 136,
   "metadata": {
    "id": "2KyFSSCkolAD"
   },
   "outputs": [],
   "source": [
    "from tensorflow.keras.models import Sequential\n",
    "from tensorflow.keras.layers import Dense\n",
    "from tensorflow.keras.layers import LSTM\n",
    "from tensorflow.keras.layers import Dropout"
   ]
  },
  {
   "cell_type": "code",
   "execution_count": 137,
   "metadata": {
    "id": "GWgoPSkFokz6"
   },
   "outputs": [],
   "source": [
    "model=Sequential()\n",
    "model.add(LSTM(50,return_sequences=True,input_shape=(90,1)))\n",
    "model.add(Dropout(0.2))\n",
    "model.add(LSTM(50,return_sequences=True))\n",
    "model.add(Dropout(0.2))\n",
    "model.add(LSTM(50))\n",
    "model.add(Dropout(0.2))\n",
    "model.add(Dense(1))\n",
    "model.compile(loss='mean_squared_error',optimizer='adam')"
   ]
  },
  {
   "cell_type": "code",
   "execution_count": 138,
   "metadata": {
    "colab": {
     "base_uri": "https://localhost:8080/"
    },
    "id": "97_q5vsZpux1",
    "outputId": "1747c689-14c7-4ac2-e852-4c2b6f9d7b19"
   },
   "outputs": [
    {
     "name": "stdout",
     "output_type": "stream",
     "text": [
      "Model: \"sequential_2\"\n",
      "_________________________________________________________________\n",
      " Layer (type)                Output Shape              Param #   \n",
      "=================================================================\n",
      " lstm_6 (LSTM)               (None, 90, 50)            10400     \n",
      "                                                                 \n",
      " dropout_6 (Dropout)         (None, 90, 50)            0         \n",
      "                                                                 \n",
      " lstm_7 (LSTM)               (None, 90, 50)            20200     \n",
      "                                                                 \n",
      " dropout_7 (Dropout)         (None, 90, 50)            0         \n",
      "                                                                 \n",
      " lstm_8 (LSTM)               (None, 50)                20200     \n",
      "                                                                 \n",
      " dropout_8 (Dropout)         (None, 50)                0         \n",
      "                                                                 \n",
      " dense_2 (Dense)             (None, 1)                 51        \n",
      "                                                                 \n",
      "=================================================================\n",
      "Total params: 50,851\n",
      "Trainable params: 50,851\n",
      "Non-trainable params: 0\n",
      "_________________________________________________________________\n"
     ]
    }
   ],
   "source": [
    "model.summary()"
   ]
  },
  {
   "cell_type": "code",
   "execution_count": 139,
   "metadata": {
    "colab": {
     "base_uri": "https://localhost:8080/"
    },
    "id": "-3N3q4Bipuq-",
    "outputId": "2d9b7165-c0c0-40e4-d100-1b172b39da75",
    "scrolled": true
   },
   "outputs": [
    {
     "name": "stdout",
     "output_type": "stream",
     "text": [
      "Epoch 1/100\n",
      "26/26 [==============================] - 10s 136ms/step - loss: 0.0397 - val_loss: 0.0494\n",
      "Epoch 2/100\n",
      "26/26 [==============================] - 2s 85ms/step - loss: 0.0071 - val_loss: 0.0064\n",
      "Epoch 3/100\n",
      "26/26 [==============================] - 2s 86ms/step - loss: 0.0055 - val_loss: 0.0056\n",
      "Epoch 4/100\n",
      "26/26 [==============================] - 2s 85ms/step - loss: 0.0052 - val_loss: 0.0044\n",
      "Epoch 5/100\n",
      "26/26 [==============================] - 2s 83ms/step - loss: 0.0062 - val_loss: 0.0044\n",
      "Epoch 6/100\n",
      "26/26 [==============================] - 2s 91ms/step - loss: 0.0046 - val_loss: 0.0072\n",
      "Epoch 7/100\n",
      "26/26 [==============================] - 2s 92ms/step - loss: 0.0046 - val_loss: 0.0041\n",
      "Epoch 8/100\n",
      "26/26 [==============================] - 2s 80ms/step - loss: 0.0045 - val_loss: 0.0033\n",
      "Epoch 9/100\n",
      "26/26 [==============================] - 2s 85ms/step - loss: 0.0045 - val_loss: 0.0164\n",
      "Epoch 10/100\n",
      "26/26 [==============================] - 2s 85ms/step - loss: 0.0047 - val_loss: 0.0087\n",
      "Epoch 11/100\n",
      "26/26 [==============================] - 2s 85ms/step - loss: 0.0043 - val_loss: 0.0094\n",
      "Epoch 12/100\n",
      "26/26 [==============================] - 2s 84ms/step - loss: 0.0047 - val_loss: 0.0029\n",
      "Epoch 13/100\n",
      "26/26 [==============================] - 2s 83ms/step - loss: 0.0034 - val_loss: 0.0033\n",
      "Epoch 14/100\n",
      "26/26 [==============================] - 2s 89ms/step - loss: 0.0035 - val_loss: 0.0028\n",
      "Epoch 15/100\n",
      "26/26 [==============================] - 2s 82ms/step - loss: 0.0035 - val_loss: 0.0031\n",
      "Epoch 16/100\n",
      "26/26 [==============================] - 2s 81ms/step - loss: 0.0035 - val_loss: 0.0127\n",
      "Epoch 17/100\n",
      "26/26 [==============================] - 2s 81ms/step - loss: 0.0033 - val_loss: 0.0029\n",
      "Epoch 18/100\n",
      "26/26 [==============================] - 2s 80ms/step - loss: 0.0036 - val_loss: 0.0027\n",
      "Epoch 19/100\n",
      "26/26 [==============================] - 2s 80ms/step - loss: 0.0032 - val_loss: 0.0025\n",
      "Epoch 20/100\n",
      "26/26 [==============================] - 3s 135ms/step - loss: 0.0029 - val_loss: 0.0058\n",
      "Epoch 21/100\n",
      "26/26 [==============================] - 2s 86ms/step - loss: 0.0029 - val_loss: 0.0038\n",
      "Epoch 22/100\n",
      "26/26 [==============================] - 2s 86ms/step - loss: 0.0028 - val_loss: 0.0067\n",
      "Epoch 23/100\n",
      "26/26 [==============================] - 2s 82ms/step - loss: 0.0029 - val_loss: 0.0208\n",
      "Epoch 24/100\n",
      "26/26 [==============================] - 2s 80ms/step - loss: 0.0038 - val_loss: 0.0071\n",
      "Epoch 25/100\n",
      "26/26 [==============================] - 2s 84ms/step - loss: 0.0030 - val_loss: 0.0037\n",
      "Epoch 26/100\n",
      "26/26 [==============================] - 2s 86ms/step - loss: 0.0027 - val_loss: 0.0022\n",
      "Epoch 27/100\n",
      "26/26 [==============================] - 2s 84ms/step - loss: 0.0030 - val_loss: 0.0031\n",
      "Epoch 28/100\n",
      "26/26 [==============================] - 2s 88ms/step - loss: 0.0029 - val_loss: 0.0072\n",
      "Epoch 29/100\n",
      "26/26 [==============================] - 2s 84ms/step - loss: 0.0027 - val_loss: 0.0052\n",
      "Epoch 30/100\n",
      "26/26 [==============================] - 3s 101ms/step - loss: 0.0026 - val_loss: 0.0092\n",
      "Epoch 31/100\n",
      "26/26 [==============================] - 2s 91ms/step - loss: 0.0025 - val_loss: 0.0021\n",
      "Epoch 32/100\n",
      "26/26 [==============================] - 2s 94ms/step - loss: 0.0026 - val_loss: 0.0021\n",
      "Epoch 33/100\n",
      "26/26 [==============================] - 2s 89ms/step - loss: 0.0026 - val_loss: 0.0055\n",
      "Epoch 34/100\n",
      "26/26 [==============================] - 2s 87ms/step - loss: 0.0026 - val_loss: 0.0037\n",
      "Epoch 35/100\n",
      "26/26 [==============================] - 2s 89ms/step - loss: 0.0024 - val_loss: 0.0027\n",
      "Epoch 36/100\n",
      "26/26 [==============================] - 2s 89ms/step - loss: 0.0028 - val_loss: 0.0032\n",
      "Epoch 37/100\n",
      "26/26 [==============================] - 2s 87ms/step - loss: 0.0027 - val_loss: 0.0058\n",
      "Epoch 38/100\n",
      "26/26 [==============================] - 2s 85ms/step - loss: 0.0024 - val_loss: 0.0018\n",
      "Epoch 39/100\n",
      "26/26 [==============================] - 2s 86ms/step - loss: 0.0025 - val_loss: 0.0101\n",
      "Epoch 40/100\n",
      "26/26 [==============================] - 2s 95ms/step - loss: 0.0025 - val_loss: 0.0046\n",
      "Epoch 41/100\n",
      "26/26 [==============================] - 2s 89ms/step - loss: 0.0023 - val_loss: 0.0031\n",
      "Epoch 42/100\n",
      "26/26 [==============================] - 2s 91ms/step - loss: 0.0027 - val_loss: 0.0024\n",
      "Epoch 43/100\n",
      "26/26 [==============================] - 2s 92ms/step - loss: 0.0024 - val_loss: 0.0020\n",
      "Epoch 44/100\n",
      "26/26 [==============================] - 2s 91ms/step - loss: 0.0024 - val_loss: 0.0034\n",
      "Epoch 45/100\n",
      "26/26 [==============================] - 3s 100ms/step - loss: 0.0022 - val_loss: 0.0025\n",
      "Epoch 46/100\n",
      "26/26 [==============================] - 2s 92ms/step - loss: 0.0021 - val_loss: 0.0018\n",
      "Epoch 47/100\n",
      "26/26 [==============================] - 3s 96ms/step - loss: 0.0024 - val_loss: 0.0033\n",
      "Epoch 48/100\n",
      "26/26 [==============================] - 2s 94ms/step - loss: 0.0020 - val_loss: 0.0059\n",
      "Epoch 49/100\n",
      "26/26 [==============================] - 3s 99ms/step - loss: 0.0021 - val_loss: 0.0023\n",
      "Epoch 50/100\n",
      "26/26 [==============================] - 3s 95ms/step - loss: 0.0019 - val_loss: 0.0055\n",
      "Epoch 51/100\n",
      "26/26 [==============================] - 2s 93ms/step - loss: 0.0022 - val_loss: 0.0141\n",
      "Epoch 52/100\n",
      "26/26 [==============================] - 3s 106ms/step - loss: 0.0032 - val_loss: 0.0018\n",
      "Epoch 53/100\n",
      "26/26 [==============================] - 3s 98ms/step - loss: 0.0019 - val_loss: 0.0017\n",
      "Epoch 54/100\n",
      "26/26 [==============================] - 3s 104ms/step - loss: 0.0019 - val_loss: 0.0014\n",
      "Epoch 55/100\n",
      "26/26 [==============================] - 3s 106ms/step - loss: 0.0017 - val_loss: 0.0051\n",
      "Epoch 56/100\n",
      "26/26 [==============================] - 3s 103ms/step - loss: 0.0018 - val_loss: 0.0027\n",
      "Epoch 57/100\n",
      "26/26 [==============================] - 3s 111ms/step - loss: 0.0016 - val_loss: 0.0061\n",
      "Epoch 58/100\n",
      "26/26 [==============================] - 3s 101ms/step - loss: 0.0018 - val_loss: 0.0014\n",
      "Epoch 59/100\n",
      "26/26 [==============================] - 3s 116ms/step - loss: 0.0018 - val_loss: 0.0014\n",
      "Epoch 60/100\n",
      "26/26 [==============================] - 3s 104ms/step - loss: 0.0017 - val_loss: 0.0013\n",
      "Epoch 61/100\n",
      "26/26 [==============================] - 3s 114ms/step - loss: 0.0017 - val_loss: 0.0021\n",
      "Epoch 62/100\n",
      "26/26 [==============================] - 3s 112ms/step - loss: 0.0017 - val_loss: 0.0030\n",
      "Epoch 63/100\n",
      "26/26 [==============================] - 3s 101ms/step - loss: 0.0016 - val_loss: 0.0045\n",
      "Epoch 64/100\n",
      "26/26 [==============================] - 3s 102ms/step - loss: 0.0016 - val_loss: 0.0021\n",
      "Epoch 65/100\n",
      "26/26 [==============================] - 3s 103ms/step - loss: 0.0016 - val_loss: 0.0013\n",
      "Epoch 66/100\n",
      "26/26 [==============================] - 3s 102ms/step - loss: 0.0016 - val_loss: 0.0013\n",
      "Epoch 67/100\n",
      "26/26 [==============================] - 3s 102ms/step - loss: 0.0017 - val_loss: 0.0024\n",
      "Epoch 68/100\n",
      "26/26 [==============================] - 3s 100ms/step - loss: 0.0016 - val_loss: 0.0015\n",
      "Epoch 69/100\n",
      "26/26 [==============================] - 3s 100ms/step - loss: 0.0017 - val_loss: 0.0013\n",
      "Epoch 70/100\n",
      "26/26 [==============================] - 3s 106ms/step - loss: 0.0018 - val_loss: 0.0035\n",
      "Epoch 71/100\n",
      "26/26 [==============================] - 3s 111ms/step - loss: 0.0022 - val_loss: 0.0104\n",
      "Epoch 72/100\n",
      "26/26 [==============================] - 3s 99ms/step - loss: 0.0018 - val_loss: 0.0042\n",
      "Epoch 73/100\n",
      "26/26 [==============================] - 3s 98ms/step - loss: 0.0016 - val_loss: 0.0027\n",
      "Epoch 74/100\n",
      "26/26 [==============================] - 3s 103ms/step - loss: 0.0014 - val_loss: 0.0034\n",
      "Epoch 75/100\n",
      "26/26 [==============================] - 3s 101ms/step - loss: 0.0015 - val_loss: 0.0023\n",
      "Epoch 76/100\n",
      "26/26 [==============================] - 3s 100ms/step - loss: 0.0015 - val_loss: 0.0020\n",
      "Epoch 77/100\n",
      "26/26 [==============================] - 3s 103ms/step - loss: 0.0015 - val_loss: 0.0031\n",
      "Epoch 78/100\n",
      "26/26 [==============================] - 3s 108ms/step - loss: 0.0015 - val_loss: 0.0027\n",
      "Epoch 79/100\n",
      "26/26 [==============================] - 3s 112ms/step - loss: 0.0013 - val_loss: 0.0015\n",
      "Epoch 80/100\n",
      "26/26 [==============================] - 3s 105ms/step - loss: 0.0015 - val_loss: 0.0013\n",
      "Epoch 81/100\n",
      "26/26 [==============================] - 3s 102ms/step - loss: 0.0013 - val_loss: 0.0044\n",
      "Epoch 82/100\n",
      "26/26 [==============================] - 3s 102ms/step - loss: 0.0016 - val_loss: 0.0054\n",
      "Epoch 83/100\n",
      "26/26 [==============================] - 3s 97ms/step - loss: 0.0015 - val_loss: 0.0038\n",
      "Epoch 84/100\n",
      "26/26 [==============================] - 3s 99ms/step - loss: 0.0013 - val_loss: 0.0011\n",
      "Epoch 85/100\n",
      "26/26 [==============================] - 3s 103ms/step - loss: 0.0012 - val_loss: 0.0037\n",
      "Epoch 86/100\n",
      "26/26 [==============================] - 3s 118ms/step - loss: 0.0013 - val_loss: 0.0026\n",
      "Epoch 87/100\n",
      "26/26 [==============================] - 3s 105ms/step - loss: 0.0014 - val_loss: 0.0016\n",
      "Epoch 88/100\n",
      "26/26 [==============================] - 3s 105ms/step - loss: 0.0012 - val_loss: 0.0031\n",
      "Epoch 89/100\n",
      "26/26 [==============================] - 3s 100ms/step - loss: 0.0012 - val_loss: 0.0014\n",
      "Epoch 90/100\n",
      "26/26 [==============================] - 3s 104ms/step - loss: 0.0014 - val_loss: 0.0020\n",
      "Epoch 91/100\n",
      "26/26 [==============================] - 3s 97ms/step - loss: 0.0013 - val_loss: 0.0012\n",
      "Epoch 92/100\n",
      "26/26 [==============================] - 3s 105ms/step - loss: 0.0015 - val_loss: 0.0016\n",
      "Epoch 93/100\n",
      "26/26 [==============================] - 3s 100ms/step - loss: 0.0012 - val_loss: 0.0034\n",
      "Epoch 94/100\n",
      "26/26 [==============================] - 3s 98ms/step - loss: 0.0011 - val_loss: 0.0013\n",
      "Epoch 95/100\n",
      "26/26 [==============================] - 3s 104ms/step - loss: 0.0011 - val_loss: 0.0022\n",
      "Epoch 96/100\n",
      "26/26 [==============================] - 3s 97ms/step - loss: 0.0012 - val_loss: 0.0045\n",
      "Epoch 97/100\n",
      "26/26 [==============================] - 3s 107ms/step - loss: 0.0012 - val_loss: 0.0051\n",
      "Epoch 98/100\n",
      "26/26 [==============================] - 3s 102ms/step - loss: 0.0012 - val_loss: 0.0059\n",
      "Epoch 99/100\n",
      "26/26 [==============================] - 3s 101ms/step - loss: 0.0012 - val_loss: 0.0077\n",
      "Epoch 100/100\n",
      "26/26 [==============================] - 2s 96ms/step - loss: 0.0014 - val_loss: 0.0012\n"
     ]
    },
    {
     "data": {
      "text/plain": [
       "<keras.callbacks.History at 0x187a7c76dc0>"
      ]
     },
     "execution_count": 139,
     "metadata": {},
     "output_type": "execute_result"
    }
   ],
   "source": [
    "model.fit(X_train,y_train,validation_data=(X_test,y_test),epochs=100,batch_size= 32,verbose=1)"
   ]
  },
  {
   "cell_type": "code",
   "execution_count": null,
   "metadata": {},
   "outputs": [],
   "source": []
  },
  {
   "cell_type": "markdown",
   "metadata": {},
   "source": [
    "# 5. Predicting Test data"
   ]
  },
  {
   "cell_type": "code",
   "execution_count": 140,
   "metadata": {},
   "outputs": [],
   "source": [
    "train_pred=model.predict(X_train)"
   ]
  },
  {
   "cell_type": "code",
   "execution_count": 141,
   "metadata": {
    "colab": {
     "base_uri": "https://localhost:8080/"
    },
    "id": "uWO6jHXFpukQ",
    "outputId": "6cf285a0-ba54-48ad-e134-1df3fbd1a4da"
   },
   "outputs": [
    {
     "data": {
      "text/plain": [
       "array([[1.2764264],\n",
       "       [1.2745138],\n",
       "       [1.2816155],\n",
       "       [1.2863714],\n",
       "       [1.2891107],\n",
       "       [1.2843953],\n",
       "       [1.2809124],\n",
       "       [1.2771095],\n",
       "       [1.2724193],\n",
       "       [1.2745327],\n",
       "       [1.2808075],\n",
       "       [1.2792432],\n",
       "       [1.2831289],\n",
       "       [1.2882711],\n",
       "       [1.2928408],\n",
       "       [1.2957487],\n",
       "       [1.2994606],\n",
       "       [1.3064799],\n",
       "       [1.3159494],\n",
       "       [1.3167325],\n",
       "       [1.309229 ],\n",
       "       [1.2982773],\n",
       "       [1.2889917],\n",
       "       [1.2841098],\n",
       "       [1.2895182],\n",
       "       [1.2950544],\n",
       "       [1.2876526],\n",
       "       [1.2778126],\n",
       "       [1.2819862],\n",
       "       [1.2927437],\n",
       "       [1.2962494],\n",
       "       [1.3047553],\n",
       "       [1.311295 ],\n",
       "       [1.3139741],\n",
       "       [1.308705 ],\n",
       "       [1.3093103],\n",
       "       [1.3099968],\n",
       "       [1.3078569],\n",
       "       [1.3047037],\n",
       "       [1.2984664],\n",
       "       [1.2814642],\n",
       "       [1.2740085],\n",
       "       [1.2704619],\n",
       "       [1.2738509],\n",
       "       [1.259719 ],\n",
       "       [1.2450218],\n",
       "       [1.2375603],\n",
       "       [1.2388041],\n",
       "       [1.2476203],\n",
       "       [1.2489733],\n",
       "       [1.2367873],\n",
       "       [1.2329868],\n",
       "       [1.2426971],\n",
       "       [1.2552329],\n",
       "       [1.265147 ],\n",
       "       [1.2672013],\n",
       "       [1.2662371],\n",
       "       [1.2604351],\n",
       "       [1.251413 ],\n",
       "       [1.234763 ],\n",
       "       [1.2085592],\n",
       "       [1.1956966],\n",
       "       [1.2002499],\n",
       "       [1.2111378],\n",
       "       [1.2149401],\n",
       "       [1.2169871],\n",
       "       [1.223187 ],\n",
       "       [1.2292049],\n",
       "       [1.2315506],\n",
       "       [1.2386959],\n",
       "       [1.2525964],\n",
       "       [1.2682595],\n",
       "       [1.2806678],\n",
       "       [1.2814265],\n",
       "       [1.2818241],\n",
       "       [1.2884521],\n",
       "       [1.2967281],\n",
       "       [1.311527 ],\n",
       "       [1.3223183],\n",
       "       [1.3290241],\n",
       "       [1.3357625],\n",
       "       [1.332581 ],\n",
       "       [1.3257214],\n",
       "       [1.3152193],\n",
       "       [1.3021419],\n",
       "       [1.2752787],\n",
       "       [1.2597617],\n",
       "       [1.2499489],\n",
       "       [1.245752 ],\n",
       "       [1.2542236],\n",
       "       [1.2684335],\n",
       "       [1.2854369],\n",
       "       [1.2887397],\n",
       "       [1.2832197],\n",
       "       [1.269465 ],\n",
       "       [1.2567221],\n",
       "       [1.2539928],\n",
       "       [1.2556281],\n",
       "       [1.2514377],\n",
       "       [1.2277213],\n",
       "       [1.2226739],\n",
       "       [1.2234436],\n",
       "       [1.2239473],\n",
       "       [1.222176 ],\n",
       "       [1.2140568],\n",
       "       [1.1982359],\n",
       "       [1.1862924],\n",
       "       [1.1493584],\n",
       "       [1.1343874],\n",
       "       [1.1378928],\n",
       "       [1.1418635],\n",
       "       [1.1396558],\n",
       "       [1.1266344],\n",
       "       [1.0999054],\n",
       "       [1.0814742],\n",
       "       [1.0842079],\n",
       "       [1.1012031],\n",
       "       [1.1167362],\n",
       "       [1.132842 ],\n",
       "       [1.137013 ],\n",
       "       [1.1458596],\n",
       "       [1.161352 ],\n",
       "       [1.1706316],\n",
       "       [1.179741 ],\n",
       "       [1.1862317],\n",
       "       [1.1902127],\n",
       "       [1.1884314],\n",
       "       [1.188176 ],\n",
       "       [1.1907016],\n",
       "       [1.2014797],\n",
       "       [1.2093042],\n",
       "       [1.2189662],\n",
       "       [1.2357146],\n",
       "       [1.2482066],\n",
       "       [1.2524861],\n",
       "       [1.2468051],\n",
       "       [1.245032 ],\n",
       "       [1.2457519],\n",
       "       [1.243673 ],\n",
       "       [1.241847 ],\n",
       "       [1.2329997],\n",
       "       [1.2217131],\n",
       "       [1.2188303],\n",
       "       [1.2257289],\n",
       "       [1.2263091],\n",
       "       [1.2184258],\n",
       "       [1.218586 ],\n",
       "       [1.2146598],\n",
       "       [1.2168406],\n",
       "       [1.2178364],\n",
       "       [1.2165215],\n",
       "       [1.2033136],\n",
       "       [1.1901946],\n",
       "       [1.1733485],\n",
       "       [1.1569927],\n",
       "       [1.1428827],\n",
       "       [1.1290365],\n",
       "       [1.1093601],\n",
       "       [1.0940907],\n",
       "       [1.0892226],\n",
       "       [1.1022459],\n",
       "       [1.115516 ],\n",
       "       [1.1088332],\n",
       "       [1.1097083],\n",
       "       [1.1105957],\n",
       "       [1.1089408],\n",
       "       [1.1012442],\n",
       "       [1.1007638],\n",
       "       [1.1075901],\n",
       "       [1.1251886],\n",
       "       [1.1401902],\n",
       "       [1.1508505],\n",
       "       [1.1586715],\n",
       "       [1.1586881],\n",
       "       [1.1549368],\n",
       "       [1.1470824],\n",
       "       [1.1382138],\n",
       "       [1.1347119],\n",
       "       [1.1286205],\n",
       "       [1.1106614],\n",
       "       [1.0947838],\n",
       "       [1.0865898],\n",
       "       [1.073015 ],\n",
       "       [1.0581839],\n",
       "       [1.0462116],\n",
       "       [1.0481259],\n",
       "       [1.048314 ],\n",
       "       [1.0521024],\n",
       "       [1.0630679],\n",
       "       [1.0787063],\n",
       "       [1.0913553],\n",
       "       [1.0978689],\n",
       "       [1.1025318],\n",
       "       [1.1044576],\n",
       "       [1.109781 ],\n",
       "       [1.1133251],\n",
       "       [1.1238223],\n",
       "       [1.1401026],\n",
       "       [1.1563263],\n",
       "       [1.1683346],\n",
       "       [1.169508 ],\n",
       "       [1.1669451],\n",
       "       [1.1623712],\n",
       "       [1.162141 ],\n",
       "       [1.1736523],\n",
       "       [1.1913394],\n",
       "       [1.2070508],\n",
       "       [1.2196023],\n",
       "       [1.2286677],\n",
       "       [1.2300174],\n",
       "       [1.2249925],\n",
       "       [1.2232504],\n",
       "       [1.2297918],\n",
       "       [1.2431163],\n",
       "       [1.2639984],\n",
       "       [1.2799264],\n",
       "       [1.2899716],\n",
       "       [1.2982264],\n",
       "       [1.3066998],\n",
       "       [1.3150995],\n",
       "       [1.3203362],\n",
       "       [1.3286637],\n",
       "       [1.3380789],\n",
       "       [1.3487984],\n",
       "       [1.3580371],\n",
       "       [1.3646958],\n",
       "       [1.3607476],\n",
       "       [1.3458022],\n",
       "       [1.3413596],\n",
       "       [1.3470405],\n",
       "       [1.3536806],\n",
       "       [1.3590208],\n",
       "       [1.3536603],\n",
       "       [1.3620595],\n",
       "       [1.3658202],\n",
       "       [1.365544 ],\n",
       "       [1.3707544],\n",
       "       [1.3767258],\n",
       "       [1.3825016],\n",
       "       [1.3928403],\n",
       "       [1.4017894],\n",
       "       [1.4087627]], dtype=float32)"
      ]
     },
     "execution_count": 141,
     "metadata": {},
     "output_type": "execute_result"
    }
   ],
   "source": [
    "test_pred = model.predict(X_test)\n",
    "test_pred"
   ]
  },
  {
   "cell_type": "code",
   "execution_count": null,
   "metadata": {
    "id": "A9G-GwI6unVt"
   },
   "outputs": [],
   "source": []
  },
  {
   "cell_type": "markdown",
   "metadata": {},
   "source": [
    "## Transforming to original form"
   ]
  },
  {
   "cell_type": "code",
   "execution_count": null,
   "metadata": {},
   "outputs": [],
   "source": []
  },
  {
   "cell_type": "code",
   "execution_count": 142,
   "metadata": {
    "id": "WTcgYD5AunOJ"
   },
   "outputs": [],
   "source": [
    "y_test_transform = scaler.inverse_transform(y_test.reshape(-1, 1))\n"
   ]
  },
  {
   "cell_type": "code",
   "execution_count": 143,
   "metadata": {
    "id": "GM-H3mXz2f9V"
   },
   "outputs": [
    {
     "data": {
      "text/plain": [
       "array([[328.0607 ],\n",
       "       [327.7868 ],\n",
       "       [328.80386],\n",
       "       [329.48492],\n",
       "       [329.87723],\n",
       "       [329.20193],\n",
       "       [328.70316],\n",
       "       [328.15854],\n",
       "       [327.48685],\n",
       "       [327.7895 ],\n",
       "       [328.68814],\n",
       "       [328.4641 ],\n",
       "       [329.02057],\n",
       "       [329.757  ],\n",
       "       [330.41144],\n",
       "       [330.82788],\n",
       "       [331.35947],\n",
       "       [332.36472],\n",
       "       [333.72086],\n",
       "       [333.83298],\n",
       "       [332.7584 ],\n",
       "       [331.18997],\n",
       "       [329.8602 ],\n",
       "       [329.16107],\n",
       "       [329.9356 ],\n",
       "       [330.72845],\n",
       "       [329.66843],\n",
       "       [328.25922],\n",
       "       [328.85693],\n",
       "       [330.39752],\n",
       "       [330.8996 ],\n",
       "       [332.1177 ],\n",
       "       [333.0543 ],\n",
       "       [333.43796],\n",
       "       [332.68335],\n",
       "       [332.77005],\n",
       "       [332.86838],\n",
       "       [332.5619 ],\n",
       "       [332.11035],\n",
       "       [331.2171 ],\n",
       "       [328.78217],\n",
       "       [327.71445],\n",
       "       [327.2065 ],\n",
       "       [327.69186],\n",
       "       [325.66803],\n",
       "       [323.56323],\n",
       "       [322.49466],\n",
       "       [322.6728 ],\n",
       "       [323.93536],\n",
       "       [324.12912],\n",
       "       [322.38397],\n",
       "       [321.83966],\n",
       "       [323.2303 ],\n",
       "       [325.02557],\n",
       "       [326.44537],\n",
       "       [326.73956],\n",
       "       [326.60147],\n",
       "       [325.7706 ],\n",
       "       [324.47852],\n",
       "       [322.09406],\n",
       "       [318.34137],\n",
       "       [316.49933],\n",
       "       [317.1514 ],\n",
       "       [318.71066],\n",
       "       [319.2552 ],\n",
       "       [319.54837],\n",
       "       [320.43625],\n",
       "       [321.29807],\n",
       "       [321.634  ],\n",
       "       [322.6573 ],\n",
       "       [324.648  ],\n",
       "       [326.89114],\n",
       "       [328.66812],\n",
       "       [328.77676],\n",
       "       [328.83374],\n",
       "       [329.78293],\n",
       "       [330.96814],\n",
       "       [333.08752],\n",
       "       [334.63293],\n",
       "       [335.5933 ],\n",
       "       [336.5583 ],\n",
       "       [336.1027 ],\n",
       "       [335.12027],\n",
       "       [333.61627],\n",
       "       [331.74347],\n",
       "       [327.89633],\n",
       "       [325.67413],\n",
       "       [324.26883],\n",
       "       [323.6678 ],\n",
       "       [324.88104],\n",
       "       [326.91602],\n",
       "       [329.3511 ],\n",
       "       [329.82413],\n",
       "       [329.03357],\n",
       "       [327.06375],\n",
       "       [325.23883],\n",
       "       [324.848  ],\n",
       "       [325.08218],\n",
       "       [324.48206],\n",
       "       [321.0856 ],\n",
       "       [320.36276],\n",
       "       [320.473  ],\n",
       "       [320.54514],\n",
       "       [320.29144],\n",
       "       [319.1287 ],\n",
       "       [316.86295],\n",
       "       [315.15253],\n",
       "       [309.86316],\n",
       "       [307.71915],\n",
       "       [308.22116],\n",
       "       [308.7898 ],\n",
       "       [308.47366],\n",
       "       [306.60886],\n",
       "       [302.78094],\n",
       "       [300.1414 ],\n",
       "       [300.5329 ],\n",
       "       [302.9668 ],\n",
       "       [305.1913 ],\n",
       "       [307.49783],\n",
       "       [308.09518],\n",
       "       [309.3621 ],\n",
       "       [311.58078],\n",
       "       [312.90976],\n",
       "       [314.2143 ],\n",
       "       [315.14383],\n",
       "       [315.71396],\n",
       "       [315.45883],\n",
       "       [315.42227],\n",
       "       [315.78397],\n",
       "       [317.3275 ],\n",
       "       [318.44806],\n",
       "       [319.8318 ],\n",
       "       [322.23032],\n",
       "       [324.01935],\n",
       "       [324.63217],\n",
       "       [323.8186 ],\n",
       "       [323.56467],\n",
       "       [323.6678 ],\n",
       "       [323.37006],\n",
       "       [323.10858],\n",
       "       [321.84152],\n",
       "       [320.22516],\n",
       "       [319.81232],\n",
       "       [320.80026],\n",
       "       [320.88336],\n",
       "       [319.7544 ],\n",
       "       [319.77734],\n",
       "       [319.21506],\n",
       "       [319.52737],\n",
       "       [319.66998],\n",
       "       [319.4817 ],\n",
       "       [317.59015],\n",
       "       [315.71136],\n",
       "       [313.29883],\n",
       "       [310.95648],\n",
       "       [308.93576],\n",
       "       [306.95285],\n",
       "       [304.13498],\n",
       "       [301.94824],\n",
       "       [301.25104],\n",
       "       [303.11615],\n",
       "       [305.01657],\n",
       "       [304.0595 ],\n",
       "       [304.18484],\n",
       "       [304.31195],\n",
       "       [304.07495],\n",
       "       [302.9727 ],\n",
       "       [302.9039 ],\n",
       "       [303.88147],\n",
       "       [306.4018 ],\n",
       "       [308.55017],\n",
       "       [310.07687],\n",
       "       [311.1969 ],\n",
       "       [311.19928],\n",
       "       [310.66208],\n",
       "       [309.53723],\n",
       "       [308.26712],\n",
       "       [307.76562],\n",
       "       [306.89328],\n",
       "       [304.32132],\n",
       "       [302.0475 ],\n",
       "       [300.87402],\n",
       "       [298.92996],\n",
       "       [296.806  ],\n",
       "       [295.0914 ],\n",
       "       [295.36554],\n",
       "       [295.3925 ],\n",
       "       [295.93503],\n",
       "       [297.50543],\n",
       "       [299.74503],\n",
       "       [301.5565 ],\n",
       "       [302.48932],\n",
       "       [303.15707],\n",
       "       [303.4329 ],\n",
       "       [304.19525],\n",
       "       [304.70282],\n",
       "       [306.20612],\n",
       "       [308.53766],\n",
       "       [310.86105],\n",
       "       [312.58078],\n",
       "       [312.7488 ],\n",
       "       [312.38177],\n",
       "       [311.72675],\n",
       "       [311.69376],\n",
       "       [313.34232],\n",
       "       [315.8753 ],\n",
       "       [318.12537],\n",
       "       [319.92288],\n",
       "       [321.22116],\n",
       "       [321.41443],\n",
       "       [320.69482],\n",
       "       [320.4453 ],\n",
       "       [321.3821 ],\n",
       "       [323.2903 ],\n",
       "       [326.28088],\n",
       "       [328.56195],\n",
       "       [330.00055],\n",
       "       [331.1827 ],\n",
       "       [332.39618],\n",
       "       [333.59912],\n",
       "       [334.34906],\n",
       "       [335.54166],\n",
       "       [336.89   ],\n",
       "       [338.42517],\n",
       "       [339.74826],\n",
       "       [340.70187],\n",
       "       [340.13644],\n",
       "       [337.99606],\n",
       "       [337.35986],\n",
       "       [338.17343],\n",
       "       [339.12436],\n",
       "       [339.88913],\n",
       "       [339.12146],\n",
       "       [340.3243 ],\n",
       "       [340.86288],\n",
       "       [340.8233 ],\n",
       "       [341.5695 ],\n",
       "       [342.42468],\n",
       "       [343.25186],\n",
       "       [344.73245],\n",
       "       [346.01407],\n",
       "       [347.01273]], dtype=float32)"
      ]
     },
     "execution_count": 143,
     "metadata": {},
     "output_type": "execute_result"
    }
   ],
   "source": [
    "train_pred_transform = scaler.inverse_transform(train_pred)\n",
    "test_pred_transform = scaler.inverse_transform(test_pred)\n",
    "test_pred_transform"
   ]
  },
  {
   "cell_type": "code",
   "execution_count": 205,
   "metadata": {
    "id": "AdmKoT-92gOe"
   },
   "outputs": [],
   "source": []
  },
  {
   "cell_type": "code",
   "execution_count": 144,
   "metadata": {
    "colab": {
     "base_uri": "https://localhost:8080/",
     "height": 295
    },
    "id": "vA50HRqttrbP",
    "outputId": "9c238507-c8e5-41d8-aa46-6cd25f91886d"
   },
   "outputs": [
    {
     "data": {
      "image/png": "[encoded data removed]",
      "text/plain": [
       "<Figure size 432x288 with 1 Axes>"
      ]
     },
     "metadata": {
      "needs_background": "light"
     },
     "output_type": "display_data"
    }
   ],
   "source": [
    "plt.plot(y_test_transform, color = 'black', label = 'True NAV')\n",
    "plt.plot(test_pred_transform, color = 'green', label = 'Predicted NAV')\n",
    "plt.title('NAV Prediction')\n",
    "plt.xlabel('Time')\n",
    "plt.ylabel('NAV')\n",
    "plt.legend()\n",
    "plt.show()"
   ]
  },
  {
   "cell_type": "code",
   "execution_count": 145,
   "metadata": {
    "id": "bffPj3y6tq_R"
   },
   "outputs": [
    {
     "data": {
      "text/plain": [
       "333"
      ]
     },
     "execution_count": 145,
     "metadata": {},
     "output_type": "execute_result"
    }
   ],
   "source": [
    "len(test_data)"
   ]
  },
  {
   "cell_type": "code",
   "execution_count": null,
   "metadata": {},
   "outputs": [],
   "source": []
  },
  {
   "cell_type": "markdown",
   "metadata": {},
   "source": [
    "# Calculate Performance Metrics"
   ]
  },
  {
   "cell_type": "code",
   "execution_count": 146,
   "metadata": {},
   "outputs": [],
   "source": [
    "import math\n",
    "from sklearn.metrics import mean_squared_error, mean_absolute_error, mean_absolute_percentage_error"
   ]
  },
  {
   "cell_type": "markdown",
   "metadata": {},
   "source": [
    "## 1. RMSE"
   ]
  },
  {
   "cell_type": "code",
   "execution_count": 147,
   "metadata": {
    "colab": {
     "base_uri": "https://localhost:8080/"
    },
    "id": "4BBxpyQPpuYS",
    "outputId": "94c0ca7d-b9a1-41dc-ce15-a6b05a6d96d5"
   },
   "outputs": [
    {
     "data": {
      "text/plain": [
       "4.920471714631539"
      ]
     },
     "execution_count": 147,
     "metadata": {},
     "output_type": "execute_result"
    }
   ],
   "source": [
    "math.sqrt(mean_squared_error(y_test_transform,test_pred_transform))"
   ]
  },
  {
   "cell_type": "code",
   "execution_count": null,
   "metadata": {},
   "outputs": [],
   "source": []
  },
  {
   "cell_type": "markdown",
   "metadata": {},
   "source": [
    "## 2. Mean Absolute Error(MAE)"
   ]
  },
  {
   "cell_type": "code",
   "execution_count": 148,
   "metadata": {},
   "outputs": [
    {
     "data": {
      "text/plain": [
       "3.9024248668323867"
      ]
     },
     "execution_count": 148,
     "metadata": {},
     "output_type": "execute_result"
    }
   ],
   "source": [
    "mean_absolute_error(y_test_transform,test_pred_transform)"
   ]
  },
  {
   "cell_type": "code",
   "execution_count": null,
   "metadata": {},
   "outputs": [],
   "source": []
  },
  {
   "cell_type": "markdown",
   "metadata": {},
   "source": [
    "## 3. Mean Absolute Percentage Error"
   ]
  },
  {
   "cell_type": "code",
   "execution_count": 149,
   "metadata": {},
   "outputs": [
    {
     "data": {
      "text/plain": [
       "0.012110720508086628"
      ]
     },
     "execution_count": 149,
     "metadata": {},
     "output_type": "execute_result"
    }
   ],
   "source": [
    "mean_absolute_percentage_error(y_test_transform,test_pred_transform)"
   ]
  },
  {
   "cell_type": "code",
   "execution_count": null,
   "metadata": {},
   "outputs": [],
   "source": []
  },
  {
   "cell_type": "markdown",
   "metadata": {},
   "source": [
    "## 4. Coefficient of Determination-R2 score"
   ]
  },
  {
   "cell_type": "code",
   "execution_count": 150,
   "metadata": {},
   "outputs": [],
   "source": [
    "from sklearn.metrics import r2_score"
   ]
  },
  {
   "cell_type": "code",
   "execution_count": 151,
   "metadata": {},
   "outputs": [
    {
     "name": "stdout",
     "output_type": "stream",
     "text": [
      "0.8871855632762555\n"
     ]
    }
   ],
   "source": [
    "r2 = r2_score(y_test_transform,test_pred_transform)\n",
    "print(r2)"
   ]
  },
  {
   "cell_type": "code",
   "execution_count": null,
   "metadata": {},
   "outputs": [],
   "source": []
  },
  {
   "cell_type": "markdown",
   "metadata": {},
   "source": [
    "# Final Prediction"
   ]
  },
  {
   "cell_type": "code",
   "execution_count": 152,
   "metadata": {},
   "outputs": [
    {
     "data": {
      "text/plain": [
       "242"
      ]
     },
     "execution_count": 152,
     "metadata": {},
     "output_type": "execute_result"
    }
   ],
   "source": [
    "len(y_test_transform)"
   ]
  },
  {
   "cell_type": "code",
   "execution_count": 153,
   "metadata": {},
   "outputs": [
    {
     "data": {
      "text/plain": [
       "(1, 90)"
      ]
     },
     "execution_count": 153,
     "metadata": {},
     "output_type": "execute_result"
    }
   ],
   "source": [
    "x_input=scaled_test_data[243:].reshape(1,-1)\n",
    "x_input.shape"
   ]
  },
  {
   "cell_type": "code",
   "execution_count": 154,
   "metadata": {},
   "outputs": [
    {
     "data": {
      "text/plain": [
       "array([[1.12194594, 1.10857825, 1.08955876, 1.05302526, 1.05301897,\n",
       "        1.06647464, 1.11105222, 1.10880798, 1.05908136, 1.1052063 ,\n",
       "        1.09869074, 1.09153696, 1.07224166, 1.09529296, 1.11036792,\n",
       "        1.14661304, 1.14693843, 1.1542193 , 1.16312015, 1.14866246,\n",
       "        1.14329905, 1.12710406, 1.1164708 , 1.12311764, 1.10188184,\n",
       "        1.05557185, 1.05543499, 1.05997514, 1.02184888, 1.00962426,\n",
       "        1.00521957, 1.03686309, 1.01652317, 1.03476828, 1.06218587,\n",
       "        1.08464922, 1.08956016, 1.0891405 , 1.09904058, 1.09704073,\n",
       "        1.11328459, 1.10782971, 1.13667805, 1.15989694, 1.17219138,\n",
       "        1.17739838, 1.15897173, 1.15837052, 1.15068256, 1.15980616,\n",
       "        1.1928958 , 1.21458128, 1.22363855, 1.23566975, 1.24381996,\n",
       "        1.23246259, 1.21911445, 1.22891957, 1.24987466, 1.27160414,\n",
       "        1.30778222, 1.3119921 , 1.31811523, 1.33153948, 1.3449749 ,\n",
       "        1.35505303, 1.35426818, 1.37307679, 1.38466598, 1.39994693,\n",
       "        1.40805455, 1.41259331, 1.38668887, 1.34985651, 1.3719833 ,\n",
       "        1.39068228, 1.39182395, 1.39538513, 1.36813443, 1.41686393,\n",
       "        1.4045632 , 1.39864117, 1.4211541 , 1.42806977, 1.43517747,\n",
       "        1.45976357, 1.46757302, 1.47479593, 1.48347822, 1.48648777]])"
      ]
     },
     "execution_count": 154,
     "metadata": {},
     "output_type": "execute_result"
    }
   ],
   "source": [
    "x_input"
   ]
  },
  {
   "cell_type": "code",
   "execution_count": 89,
   "metadata": {},
   "outputs": [
    {
     "data": {
      "text/plain": [
       "array([[346.1353]], dtype=float32)"
      ]
     },
     "execution_count": 89,
     "metadata": {},
     "output_type": "execute_result"
    }
   ],
   "source": [
    "scaler.inverse_transform(model.predict(x_input))"
   ]
  },
  {
   "cell_type": "code",
   "execution_count": null,
   "metadata": {},
   "outputs": [],
   "source": []
  },
  {
   "cell_type": "markdown",
   "metadata": {},
   "source": [
    "# The predicted NAV(net asset value) for Tata Large & Mid Cap Fund on 15 Sep 2022 is Rs.346.13"
   ]
  },
  {
   "cell_type": "code",
   "execution_count": null,
   "metadata": {},
   "outputs": [],
   "source": []
  },
  {
   "cell_type": "code",
   "execution_count": null,
   "metadata": {},
   "outputs": [],
   "source": []
  },
  {
   "cell_type": "code",
   "execution_count": null,
   "metadata": {
    "id": "4D1Dfur5vV2y"
   },
   "outputs": [],
   "source": []
  },
  {
   "cell_type": "code",
   "execution_count": null,
   "metadata": {
    "id": "YGcnBKfXtMVu"
   },
   "outputs": [],
   "source": []
  }
 ],
 "metadata": {
  "colab": {
   "collapsed_sections": [],
   "provenance": []
  },
  "kernelspec": {
   "display_name": "Python 3 (ipykernel)",
   "language": "python",
   "name": "python3"
  },
  "language_info": {
   "codemirror_mode": {
    "name": "ipython",
    "version": 3
   },
   "file_extension": ".py",
   "mimetype": "text/x-python",
   "name": "python",
   "nbconvert_exporter": "python",
   "pygments_lexer": "ipython3",
   "version": "3.8.13"
  }
 },
 "nbformat": 4,
 "nbformat_minor": 1
}
